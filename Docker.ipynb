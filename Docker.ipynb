{
 "cells": [
  {
   "cell_type": "markdown",
   "metadata": {},
   "source": [
    "### check docker version"
   ]
  },
  {
   "cell_type": "code",
   "execution_count": 1,
   "metadata": {},
   "outputs": [
    {
     "name": "stdout",
     "output_type": "stream",
     "text": [
      "Docker version 19.03.8, build afacb8b7f0\r\n"
     ]
    }
   ],
   "source": [
    "!docker --version"
   ]
  },
  {
   "cell_type": "markdown",
   "metadata": {},
   "source": [
    "### run first docker container"
   ]
  },
  {
   "cell_type": "code",
   "execution_count": 2,
   "metadata": {},
   "outputs": [
    {
     "name": "stdout",
     "output_type": "stream",
     "text": [
      "\r\n",
      "Hello from Docker!\r\n",
      "This message shows that your installation appears to be working correctly.\r\n",
      "\r\n",
      "To generate this message, Docker took the following steps:\r\n",
      " 1. The Docker client contacted the Docker daemon.\r\n",
      " 2. The Docker daemon pulled the \"hello-world\" image from the Docker Hub.\r\n",
      "    (amd64)\r\n",
      " 3. The Docker daemon created a new container from that image which runs the\r\n",
      "    executable that produces the output you are currently reading.\r\n",
      " 4. The Docker daemon streamed that output to the Docker client, which sent it\r\n",
      "    to your terminal.\r\n",
      "\r\n",
      "To try something more ambitious, you can run an Ubuntu container with:\r\n",
      " $ docker run -it ubuntu bash\r\n",
      "\r\n",
      "Share images, automate workflows, and more with a free Docker ID:\r\n",
      " https://hub.docker.com/\r\n",
      "\r\n",
      "For more examples and ideas, visit:\r\n",
      " https://docs.docker.com/get-started/\r\n",
      "\r\n"
     ]
    }
   ],
   "source": [
    "!docker run hello-world"
   ]
  },
  {
   "cell_type": "markdown",
   "metadata": {},
   "source": [
    "# what happend when you run it?\n",
    "\n",
    "1. check image file with image and and tag, \\\n",
    "    in here we need hello-world:latest \\\n",
    "    *hello-world* is image name \\\n",
    "    *latest* default image tag to get latest image\n",
    "    \n",
    "2. if not exist get from DockerHub\n",
    "\n",
    "3. run it with your parameters\n",
    "\n",
    "![what happend when you run it](https://docs.docker.com/engine/images/architecture.svg)"
   ]
  },
  {
   "cell_type": "markdown",
   "metadata": {},
   "source": [
    "# run  nodeJS project with docker\n",
    "\n",
    "1. get projet from git\n",
    "2. check docker file\n",
    "3. run it\n",
    "\n"
   ]
  },
  {
   "cell_type": "code",
   "execution_count": 3,
   "metadata": {},
   "outputs": [
    {
     "name": "stdout",
     "output_type": "stream",
     "text": [
      "/home/amin/code/python/docker\n",
      "fatal: destination path 'node-bulletin-board' already exists and is not an empty directory.\n",
      "/home/amin/code/python/docker/node-bulletin-board\n",
      "\u001b[0m\u001b[01;34mbulletin-board-app\u001b[0m/  LICENSE\n",
      "/home/amin/code/python/docker/node-bulletin-board/bulletin-board-app\n"
     ]
    }
   ],
   "source": [
    "\n",
    "# go to some path like workspace\n",
    "%cd ~/code/python/docker\n",
    "# clone it\n",
    "!git clone https://github.com/dockersamples/node-bulletin-board\n",
    "# change dir in to project foulder\n",
    "%cd node-bulletin-board\n",
    "# list of files\n",
    "%ls\n",
    "%cd bulletin-board-app"
   ]
  },
  {
   "cell_type": "code",
   "execution_count": 4,
   "metadata": {},
   "outputs": [
    {
     "name": "stdout",
     "output_type": "stream",
     "text": [
      "app.js    Dockerfile  index.html  package.json  server.js\n",
      "\u001b[0m\u001b[01;34mbackend\u001b[0m/  \u001b[01;34mfonts\u001b[0m/      LICENSE     readme.md     site.css\n",
      "FROM node:current-slim\n",
      "\n",
      "WORKDIR /usr/src/app\n",
      "COPY package.json .\n",
      "RUN npm install\n",
      "\n",
      "EXPOSE 8080\n",
      "CMD [ \"npm\", \"start\" ]\n",
      "\n",
      "COPY . ."
     ]
    }
   ],
   "source": [
    "# list of our files\n",
    "%ls\n",
    "# show Dockerfile sample\n",
    "%cat Dockerfile"
   ]
  },
  {
   "cell_type": "markdown",
   "metadata": {},
   "source": [
    "### check line by line\n",
    "\n",
    "1. get some base image\n",
    "```python\n",
    "FROM node:current-slim\n",
    "```\n",
    "[more information about this image](https://hub.docker.com/_/node/) \\\n",
    "this image provide a base for nodejs project \n",
    "\n",
    "2. set work directory\n",
    "```python\n",
    "WORKDIR /usr/src/app\n",
    "```\n",
    "3. copy packge file to workdir \n",
    "```python\n",
    "COPY package.json .\n",
    "```\n",
    "4. install packges\n",
    "```python\n",
    "RUN npm install\n",
    "```\n",
    "\n",
    "5. set port \n",
    "```python\n",
    "EXPOSE 8080\n",
    "```\n",
    "when you EXPOSE some port tell to container \"*hey yo, set this port open from out of container*\"\n",
    "and EXPOSE some like -p or --public flag.\n",
    "\n",
    "6. set which commad alway be run\n",
    "```python\n",
    "CMD [ \"npm\", \"start\" ]\n",
    "```\n",
    "\n",
    "7. then copy file files into container\n",
    "```python\n",
    "COPY . .\n",
    "```\n",
    "\n",
    "## now let's build it\n",
    "build mean put all project and base into Single image"
   ]
  },
  {
   "cell_type": "code",
   "execution_count": 5,
   "metadata": {},
   "outputs": [
    {
     "name": "stdout",
     "output_type": "stream",
     "text": [
      "Sending build context to Docker daemon  45.57kB\n",
      "Step 1/7 : FROM node:current-slim\n",
      " ---> 8d32307afb40\n",
      "Step 2/7 : WORKDIR /usr/src/app\n",
      " ---> Using cache\n",
      " ---> 25bd7f80dcf3\n",
      "Step 3/7 : COPY package.json .\n",
      " ---> Using cache\n",
      " ---> 8153ef420259\n",
      "Step 4/7 : RUN npm install\n",
      " ---> Using cache\n",
      " ---> 5eeb0f4e732c\n",
      "Step 5/7 : EXPOSE 8080\n",
      " ---> Using cache\n",
      " ---> d2169c55a8e7\n",
      "Step 6/7 : CMD [ \"npm\", \"start\" ]\n",
      " ---> Using cache\n",
      " ---> 4364353391aa\n",
      "Step 7/7 : COPY . .\n",
      " ---> Using cache\n",
      " ---> 523e1a8df7fd\n",
      "Successfully built 523e1a8df7fd\n",
      "Successfully tagged bulletinboard:1.0\n"
     ]
    }
   ],
   "source": [
    "# --tag name:version some thing like that\n",
    "!docker build --tag bulletinboard:1.0 .\n"
   ]
  },
  {
   "cell_type": "markdown",
   "metadata": {},
   "source": [
    "## Let's run  image"
   ]
  },
  {
   "cell_type": "code",
   "execution_count": 6,
   "metadata": {},
   "outputs": [
    {
     "name": "stdout",
     "output_type": "stream",
     "text": [
      "docker: Error response from daemon: Conflict. The container name \"/b1\" is already in use by container \"74d28aaf90293675e600f1c6baa2123fac34afbd0c719fde28537e1a81c3ec56\". You have to remove (or rename) that container to be able to reuse that name.\r\n",
      "See 'docker run --help'.\r\n"
     ]
    }
   ],
   "source": [
    "!docker run --publish 8000:8080 --detach --name b1 bulletinboard:1.0\n",
    "# now let's check 127.0.0.1:8000"
   ]
  },
  {
   "cell_type": "markdown",
   "metadata": {},
   "source": [
    "### stop and then delete"
   ]
  },
  {
   "cell_type": "code",
   "execution_count": 34,
   "metadata": {},
   "outputs": [
    {
     "name": "stdout",
     "output_type": "stream",
     "text": [
      "b1\n",
      "b1\n"
     ]
    }
   ],
   "source": [
    "!docker stop b1\n",
    "\n",
    "!docker rm b1"
   ]
  },
  {
   "cell_type": "markdown",
   "metadata": {},
   "source": [
    "### then what happend there?\n",
    "#### Let's check it.\n",
    "\n",
    "- it'is our base command\n",
    "```python\n",
    "docker run\n",
    "```\n",
    "\n",
    "-  when all command run and container up then let container to do it's work or in other word when container run\n",
    "    disconnect from it\n",
    "   \n",
    "```python\n",
    "--detach\n",
    "```   \n",
    "- set any request in 8000 port of host map to 8080 port of container\n",
    "    \n",
    "```python\n",
    "--publish 8000:8080\n",
    "``` \n",
    "- name of container and which image use\n",
    "```python\n",
    "--name b1 bulletinboard:1.0\n",
    "``` \n",
    "\n",
    "    "
   ]
  },
  {
   "cell_type": "markdown",
   "metadata": {},
   "source": [
    "## Volumes\n",
    "\n",
    "### when we need volumes?\n",
    "#### when need to save data out of container like database, logs, uploaded use file\n",
    "\n",
    "\n",
    "#### for use there two type volumes almost we use\n",
    "1. save data into docker volumens when use mysql or other database\n",
    "2. use project code in  host system instead put it in image\n",
    "\n",
    "\n",
    "#### there two way docker tell us to use volumes\n",
    "1. --mount or -m\n",
    "2. --volume or -v\n",
    "\n",
    "and tell us to use *--mount* because easier syntax and I perfer to use it in docker build\n",
    "\n",
    "### let's start and create new volume"
   ]
  },
  {
   "cell_type": "code",
   "execution_count": 7,
   "metadata": {},
   "outputs": [
    {
     "name": "stdout",
     "output_type": "stream",
     "text": [
      "myvol\r\n"
     ]
    }
   ],
   "source": [
    "!docker volume create myvol\n"
   ]
  },
  {
   "cell_type": "markdown",
   "metadata": {},
   "source": [
    "### Now let's check list of volumes"
   ]
  },
  {
   "cell_type": "code",
   "execution_count": 8,
   "metadata": {},
   "outputs": [
    {
     "name": "stdout",
     "output_type": "stream",
     "text": [
      "DRIVER              VOLUME NAME\r\n",
      "local               1d3e0e5517dbae711167e7da3d125268dabe0027af862dd9dd0624e92614e111\r\n",
      "local               8c2e5f76aff591489bbcd11fcdd4cfda60ef4b4d20356ed7d9317e2945f04ac4\r\n",
      "local               49d37fa68a9367de719a67275f4952a36f21badb6da3952b99e89adfd618e567\r\n",
      "local               192f6942c1df22757d9aeda718a438ff94dec82a5ff62dfefdfb9e31f32b6267\r\n",
      "local               10638fa59b053b04e25092e4b744428e34822ec51b1c6a2ecabc4cfad2094bc4\r\n",
      "local               68935b8a8cedc7a4d345fc4936561ab9fc66698d84ab048aac9b2d4c8541b9b5\r\n",
      "local               af36ae140864ecb086ca69ce1c1710dd018a9daa4a5be71cf2f2847f527e3b50\r\n",
      "local               b3de1b1634b5093efa61ddc6557f7e6ed7974b784069366e4e4ba8e9a443f1a2\r\n",
      "local               b65ec3222350164251ea84b86c130c123eb38e05a439b98e40b3d2c8834b0c8d\r\n",
      "local               e191772680759d1396cad1f9b6a4b4e97d8b2e8171166f4a65a08f50adea33c1\r\n",
      "local               ff34a106ed413d75c11ad8e2a2fc9c2159392376d9a34c503345478f54a1d589\r\n",
      "local               myvol\r\n"
     ]
    }
   ],
   "source": [
    "!docker volume ls"
   ]
  },
  {
   "cell_type": "markdown",
   "metadata": {},
   "source": [
    "### detail of volumes"
   ]
  },
  {
   "cell_type": "code",
   "execution_count": 9,
   "metadata": {},
   "outputs": [
    {
     "name": "stdout",
     "output_type": "stream",
     "text": [
      "[\r\n",
      "    {\r\n",
      "        \"CreatedAt\": \"2020-05-04T15:42:20+04:30\",\r\n",
      "        \"Driver\": \"local\",\r\n",
      "        \"Labels\": {},\r\n",
      "        \"Mountpoint\": \"/var/lib/docker/volumes/myvol/_data\",\r\n",
      "        \"Name\": \"myvol\",\r\n",
      "        \"Options\": {},\r\n",
      "        \"Scope\": \"local\"\r\n",
      "    }\r\n",
      "]\r\n"
     ]
    }
   ],
   "source": [
    "!docker volume inspect myvol\n"
   ]
  },
  {
   "cell_type": "markdown",
   "metadata": {},
   "source": [
    "### Do You want remove some volume? let's do it"
   ]
  },
  {
   "cell_type": "code",
   "execution_count": 12,
   "metadata": {},
   "outputs": [
    {
     "name": "stdout",
     "output_type": "stream",
     "text": [
      "Error response from daemon: remove myvol: volume is in use - [23c1cf9429299fa02a62a626520ca80d1668b076abe3b49cd1f7a5b1832b2560]\r\n"
     ]
    }
   ],
   "source": [
    "!docker volume rm myvol"
   ]
  },
  {
   "cell_type": "markdown",
   "metadata": {},
   "source": [
    "### Until Now You can understand volumes now how use it in container"
   ]
  },
  {
   "cell_type": "code",
   "execution_count": 13,
   "metadata": {},
   "outputs": [
    {
     "name": "stdout",
     "output_type": "stream",
     "text": [
      "6b24c77db0493c9386083bbc17925ff512bc73eefbe05d6fedee9d6d448a0dbc\n",
      "710858d522babd8a8875b15a14d83f71cfc53b335f4d9908ab5f26eb6e413f09\n"
     ]
    }
   ],
   "source": [
    "#here is sample with ngnix\n",
    "!docker run --detach  --name devtest_ng  -v myvol:/app  nginx:latest\n",
    "# here is sample with mysql\n",
    "!docker run --detach  --name devtest_mysql  -v myvol:/var/lib/mysql  mysql\n"
   ]
  },
  {
   "cell_type": "markdown",
   "metadata": {},
   "source": [
    "for using docker volume You most know where data of container to save in docker volume\n",
    "\n",
    "#### now let's stop and delete those container"
   ]
  },
  {
   "cell_type": "code",
   "execution_count": 14,
   "metadata": {},
   "outputs": [
    {
     "name": "stdout",
     "output_type": "stream",
     "text": [
      "devtest_ng\n",
      "devtest_mysql\n",
      "devtest_ng\n",
      "devtest_mysql\n"
     ]
    }
   ],
   "source": [
    "!docker stop devtest_ng\n",
    "!docker stop devtest_mysql\n",
    "\n",
    "!docker rm devtest_ng\n",
    "!docker rm devtest_mysql"
   ]
  },
  {
   "cell_type": "markdown",
   "metadata": {},
   "source": [
    "## what about run from host in container?\n",
    "### what we need? the best mini framwork in python. FLASK!\n",
    "1. set directory\n",
    "\n",
    "2. create base python and flask need file\n",
    "\n",
    "3. set up Dockerfile\n",
    "\n",
    "if you need something more powerful look at[digitalocean resource](https://www.digitalocean.com/community/tutorials/how-to-build-and-deploy-a-flask-application-using-docker-on-ubuntu-18-04)"
   ]
  },
  {
   "cell_type": "markdown",
   "metadata": {},
   "source": [
    "### 1- set directory\n"
   ]
  },
  {
   "cell_type": "code",
   "execution_count": 12,
   "metadata": {
    "scrolled": true
   },
   "outputs": [
    {
     "name": "stdout",
     "output_type": "stream",
     "text": [
      "/home/amin/code/python/docker\n",
      "flask_runer.sh  main.py  \u001b[0m\u001b[01;34mnode-bulletin-board\u001b[0m/  requirements.txt\n",
      "/home/amin/code/python/docker/flask\n"
     ]
    }
   ],
   "source": [
    "## create new folder for dear flask\n",
    "## need to change \n",
    "%cd ~/code/python/docker\n",
    "%ls\n",
    "%mkdir flask\n",
    "%cd flask"
   ]
  },
  {
   "cell_type": "markdown",
   "metadata": {},
   "source": [
    "### 2- create base python and flask need file\n"
   ]
  },
  {
   "cell_type": "code",
   "execution_count": 14,
   "metadata": {},
   "outputs": [
    {
     "name": "stdout",
     "output_type": "stream",
     "text": [
      "from flask import Flask \r\n",
      "app = Flask(__name__) \r\n",
      "@app.route('/') \r\n",
      "def home():\r\n",
      "    return \"hello world!\"\r\n",
      "if __name__ == '__main__':\r\n",
      "    app.run(host='0.0.0.0') \r\n"
     ]
    }
   ],
   "source": [
    "# create main.py\n",
    "!echo \"from flask import Flask \\napp = Flask(__name__) \\n@app.route('/') \\ndef home():\\n    return \\\"hello world!\\\"\\nif __name__ == '__main__':\\n    app.run(host='0.0.0.0') \" >> main.py\n",
    "!cat main.py"
   ]
  },
  {
   "cell_type": "code",
   "execution_count": 15,
   "metadata": {},
   "outputs": [
    {
     "name": "stdout",
     "output_type": "stream",
     "text": [
      "Flask\r\n"
     ]
    }
   ],
   "source": [
    "!echo \"Flask\" >> requirements.txt\n",
    "!cat requirements.txt"
   ]
  },
  {
   "cell_type": "markdown",
   "metadata": {},
   "source": [
    "### 3- set up Dockerfile\n"
   ]
  },
  {
   "cell_type": "code",
   "execution_count": 19,
   "metadata": {},
   "outputs": [
    {
     "name": "stdout",
     "output_type": "stream",
     "text": [
      "FROM python:alpine3.11 \r\n",
      "RUN apk --update add bash nano \r\n",
      "COPY ./requirements.txt /var/www/requirements.txt \r\n",
      "RUN pip install --upgrade pip \r\n",
      "RUN pip install -r /var/www/requirements.txt \r\n",
      "WORKDIR /app \r\n",
      "EXPOSE 5000 \r\n",
      "CMD [\"python\", \"main.py\"]\r\n"
     ]
    }
   ],
   "source": [
    "!echo \"FROM python:alpine3.11 \\nRUN apk --update add bash nano \\nCOPY ./requirements.txt /var/www/requirements.txt \\nRUN pip install --upgrade pip \\nRUN pip install -r /var/www/requirements.txt \\nWORKDIR /app \\nEXPOSE 5000 \\nCMD [\\\"python\\\", \\\"main.py\\\"]\" >> Dockerfile\n",
    "!cat Dockerfile"
   ]
  },
  {
   "cell_type": "markdown",
   "metadata": {},
   "source": [
    "### check line by line\n",
    "\n",
    "1. get some base image\n",
    "```python\n",
    "FROM python:alpine3.11  \n",
    "```\n",
    "[more information about this image](https://hub.docker.com/_/python)\n",
    "\n",
    "2. update alpine and add nano editor to image\n",
    "```python\n",
    "RUN apk --update add bash nano \n",
    "```\n",
    "\n",
    "\n",
    "3. move from requirements.txt from here to image\n",
    "```python\n",
    "COPY ./requirements.txt /var/www/requirements.txt \n",
    "```\n",
    "\n",
    "\n",
    "4. update pip\n",
    "```python\n",
    "RUN pip install --upgrade pip\n",
    "```\n",
    "5. install all needed packge in requirements.txt\n",
    "```python\n",
    "RUN pip install -r /var/www/requirements.txt\n",
    "```\n",
    "\n",
    "6.  set where is out workspace\n",
    "```python\n",
    "WORKDIR /app\n",
    "```\n",
    "\n",
    "7. set which port for map from host\n",
    "```python\n",
    "EXPOSE 5000 \n",
    "```\n",
    "\n",
    "7. run ouy simple flask file\n",
    "```python\n",
    "CMD [\"python\", \"main.py\"]\n",
    "```\n",
    "\n",
    "_as You see in here use some CMD [\"python\",\"flask\"] stuff because without any other tools to handle it. (it's fine for learning and development)_\n",
    "\n",
    "## now let's build it\n",
    "build mean put all project and base into Single image"
   ]
  },
  {
   "cell_type": "code",
   "execution_count": 17,
   "metadata": {
    "scrolled": true
   },
   "outputs": [
    {
     "name": "stdout",
     "output_type": "stream",
     "text": [
      "Sending build context to Docker daemon   5.12kB\n",
      "Step 1/8 : FROM python:alpine3.11\n",
      "alpine3.11: Pulling from library/python\n",
      "\n",
      "\u001b[1Be7a5bc2a: Pulling fs layer \n",
      "\u001b[1Bcd19a4e3: Pulling fs layer \n",
      "\u001b[1Bdcbeccf1: Pulling fs layer \n",
      "\u001b[1B327f91dd: Pulling fs layer \n",
      "\u001b[1B0a120de2: Pull complete 931MB/1.931MBB\u001b[4A\u001b[2K\u001b[4A\u001b[2K\u001b[5A\u001b[2K\u001b[4A\u001b[2K\u001b[5A\u001b[2K\u001b[4A\u001b[2K\u001b[5A\u001b[2K\u001b[4A\u001b[2K\u001b[3A\u001b[2K\u001b[4A\u001b[2K\u001b[5A\u001b[2K\u001b[5A\u001b[2K\u001b[5A\u001b[2K\u001b[3A\u001b[2K\u001b[5A\u001b[2K\u001b[3A\u001b[2K\u001b[5A\u001b[2K\u001b[3A\u001b[2K\u001b[3A\u001b[2K\u001b[5A\u001b[2K\u001b[5A\u001b[2K\u001b[5A\u001b[2K\u001b[5A\u001b[2K\u001b[4A\u001b[2K\u001b[4A\u001b[2K\u001b[3A\u001b[2K\u001b[3A\u001b[2K\u001b[3A\u001b[2K\u001b[3A\u001b[2K\u001b[3A\u001b[2K\u001b[3A\u001b[2K\u001b[2A\u001b[2K\u001b[3A\u001b[2K\u001b[3A\u001b[2K\u001b[3A\u001b[2K\u001b[3A\u001b[2K\u001b[3A\u001b[2K\u001b[3A\u001b[2K\u001b[3A\u001b[2K\u001b[3A\u001b[2K\u001b[1A\u001b[2K\u001b[3A\u001b[2K\u001b[3A\u001b[2K\u001b[1A\u001b[2K\u001b[3A\u001b[2K\u001b[3A\u001b[2K\u001b[1A\u001b[2K\u001b[3A\u001b[2K\u001b[1A\u001b[2K\u001b[3A\u001b[2K\u001b[1A\u001b[2K\u001b[3A\u001b[2K\u001b[1A\u001b[2K\u001b[3A\u001b[2K\u001b[1A\u001b[2K\u001b[3A\u001b[2K\u001b[1A\u001b[2K\u001b[3A\u001b[2K\u001b[1A\u001b[2K\u001b[1A\u001b[2K\u001b[3A\u001b[2K\u001b[1A\u001b[2K\u001b[1A\u001b[2K\u001b[3A\u001b[2K\u001b[1A\u001b[2K\u001b[3A\u001b[2K\u001b[1A\u001b[2K\u001b[3A\u001b[2K\u001b[1A\u001b[2K\u001b[3A\u001b[2K\u001b[1A\u001b[2K\u001b[3A\u001b[2K\u001b[1A\u001b[2K\u001b[3A\u001b[2K\u001b[1A\u001b[2K\u001b[1A\u001b[2K\u001b[3A\u001b[2K\u001b[1A\u001b[2K\u001b[1A\u001b[2K\u001b[3A\u001b[2K\u001b[3A\u001b[2K\u001b[3A\u001b[2K\u001b[3A\u001b[2K\u001b[3A\u001b[2K\u001b[3A\u001b[2K\u001b[3A\u001b[2K\u001b[3A\u001b[2K\u001b[3A\u001b[2K\u001b[3A\u001b[2K\u001b[3A\u001b[2K\u001b[3A\u001b[2K\u001b[3A\u001b[2K\u001b[3A\u001b[2K\u001b[3A\u001b[2K\u001b[3A\u001b[2K\u001b[2A\u001b[2K\u001b[1A\u001b[2K\u001b[1A\u001b[2K\u001b[1A\u001b[2KDigest: sha256:745fac134e7ea2947934f4baba06db821e63db3607938692017f766c4834cbc0\n",
      "Status: Downloaded newer image for python:alpine3.11\n",
      " ---> 6c32e2504283\n",
      "Step 2/8 : RUN apk --update add bash nano\n",
      " ---> Running in acb4430d1e1c\n",
      "fetch http://dl-cdn.alpinelinux.org/alpine/v3.11/main/x86_64/APKINDEX.tar.gz\n",
      "fetch http://dl-cdn.alpinelinux.org/alpine/v3.11/community/x86_64/APKINDEX.tar.gz\n",
      "(1/3) Installing bash (5.0.11-r1)\n",
      "Executing bash-5.0.11-r1.post-install\n",
      "(2/3) Installing libmagic (5.37-r1)\n",
      "(3/3) Installing nano (4.6-r0)\n",
      "Executing busybox-1.31.1-r9.trigger\n",
      "OK: 18 MiB in 37 packages\n",
      "Removing intermediate container acb4430d1e1c\n",
      " ---> 5bd938a9cb0c\n",
      "Step 3/8 : COPY ./requirements.txt /var/www/requirements.txt\n",
      " ---> 052998ec5f15\n",
      "Step 4/8 : RUN pip install --upgrade pip\n",
      " ---> Running in 7d6ab76165fe\n",
      "Requirement already up-to-date: pip in /usr/local/lib/python3.8/site-packages (20.1)\n",
      "Removing intermediate container 7d6ab76165fe\n",
      " ---> 99d7b3fe14b0\n",
      "Step 5/8 : RUN pip install -r /var/www/requirements.txt\n",
      " ---> Running in 16dd1de31caa\n",
      "Collecting Flask\n",
      "  Downloading Flask-1.1.2-py2.py3-none-any.whl (94 kB)\n",
      "Collecting click>=5.1\n",
      "  Downloading click-7.1.2-py2.py3-none-any.whl (82 kB)\n",
      "Collecting Werkzeug>=0.15\n",
      "  Downloading Werkzeug-1.0.1-py2.py3-none-any.whl (298 kB)\n",
      "Collecting itsdangerous>=0.24\n",
      "  Downloading itsdangerous-1.1.0-py2.py3-none-any.whl (16 kB)\n",
      "Collecting Jinja2>=2.10.1\n",
      "  Downloading Jinja2-2.11.2-py2.py3-none-any.whl (125 kB)\n",
      "Collecting MarkupSafe>=0.23\n",
      "  Downloading MarkupSafe-1.1.1.tar.gz (19 kB)\n",
      "Building wheels for collected packages: MarkupSafe\n",
      "  Building wheel for MarkupSafe (setup.py): started\n",
      "  Building wheel for MarkupSafe (setup.py): finished with status 'done'\n",
      "  Created wheel for MarkupSafe: filename=MarkupSafe-1.1.1-py3-none-any.whl size=12629 sha256=b00be5c2e40334aff8d20828f765d9989aeaf6461be072918affbd67ddaab5d3\n",
      "  Stored in directory: /root/.cache/pip/wheels/0c/61/d6/4db4f4c28254856e82305fdb1f752ed7f8482e54c384d8cb0e\n",
      "Successfully built MarkupSafe\n",
      "Installing collected packages: click, Werkzeug, itsdangerous, MarkupSafe, Jinja2, Flask\n",
      "Successfully installed Flask-1.1.2 Jinja2-2.11.2 MarkupSafe-1.1.1 Werkzeug-1.0.1 click-7.1.2 itsdangerous-1.1.0\n",
      "Removing intermediate container 16dd1de31caa\n",
      " ---> 4ce7c32142de\n",
      "Step 6/8 : WORKDIR /app\n",
      " ---> Running in 6d7f52c6e365\n",
      "Removing intermediate container 6d7f52c6e365\n",
      " ---> 959af420e8ca\n",
      "Step 7/8 : EXPOSE 5000\n",
      " ---> Running in 95740b604ab1\n",
      "Removing intermediate container 95740b604ab1\n",
      " ---> 95a2b10fd0b3\n",
      "Step 8/8 : CMD [\"python\", \"main.py\"]\n",
      " ---> Running in de36c2117667\n",
      "Removing intermediate container de36c2117667\n",
      " ---> ef5938719b6a\n",
      "Successfully built ef5938719b6a\n",
      "Successfully tagged our_flask_sample:latest\n"
     ]
    }
   ],
   "source": [
    "!docker build --tag our_flask_sample ."
   ]
  },
  {
   "cell_type": "code",
   "execution_count": 41,
   "metadata": {},
   "outputs": [
    {
     "name": "stdout",
     "output_type": "stream",
     "text": [
      "c94502b0940c6732c5c9da82659050cf4b338362b08c276d6f7ffe1a6e2f22ff\n",
      "CONTAINER ID        IMAGE               COMMAND             CREATED                  STATUS                  PORTS                     NAMES\n",
      "c94502b0940c        our_flask_sample    \"python main.py\"    Less than a second ago   Up Less than a second   0.0.0.0:12233->5000/tcp   our_flask_sample\n"
     ]
    }
   ],
   "source": [
    "!docker run -d  --name our_flask_sample  --publish 12233:5000 -v ~/code/python/docker/flask:/app our_flask_sample\n",
    "!docker ps"
   ]
  },
  {
   "cell_type": "markdown",
   "metadata": {},
   "source": [
    "### Hi darling!\n",
    "![hello world!](docker-run-flask.png)"
   ]
  },
  {
   "cell_type": "code",
   "execution_count": 45,
   "metadata": {},
   "outputs": [
    {
     "name": "stdout",
     "output_type": "stream",
     "text": [
      "our_flask_sample\n",
      "our_flask_sample\n"
     ]
    }
   ],
   "source": [
    "!docker stop our_flask_sample\n",
    "\n",
    "!docker rm our_flask_sample"
   ]
  },
  {
   "cell_type": "markdown",
   "metadata": {},
   "source": [
    "## here is some tricks\n",
    "1. -v or volume need to pass two thing \n",
    "    - src\n",
    "    - target\n",
    "    \n",
    "    like that -v ~/code/python/docker/flask:/app\n",
    "    #### but that's not good way. You can use $PWD in your commend instead full path like that"
   ]
  },
  {
   "cell_type": "code",
   "execution_count": 46,
   "metadata": {},
   "outputs": [
    {
     "name": "stdout",
     "output_type": "stream",
     "text": [
      "e66c47607e358094fa429a1546359627268482350f9ff5780350bf223b08a352\n",
      "CONTAINER ID        IMAGE               COMMAND             CREATED                  STATUS                  PORTS                     NAMES\n",
      "e66c47607e35        our_flask_sample    \"python main.py\"    Less than a second ago   Up Less than a second   0.0.0.0:12233->5000/tcp   our_flask_sample\n"
     ]
    }
   ],
   "source": [
    "!docker run -d  --name our_flask_sample  --publish 12233:5000 -v $PWD:/app our_flask_sample\n",
    "!docker ps"
   ]
  }
 ],
 "metadata": {
  "kernelspec": {
   "display_name": "Python 3",
   "language": "python",
   "name": "python3"
  },
  "language_info": {
   "codemirror_mode": {
    "name": "ipython",
    "version": 3
   },
   "file_extension": ".py",
   "mimetype": "text/x-python",
   "name": "python",
   "nbconvert_exporter": "python",
   "pygments_lexer": "ipython3",
   "version": "3.6.9"
  }
 },
 "nbformat": 4,
 "nbformat_minor": 4
}
